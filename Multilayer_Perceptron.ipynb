{
 "cells": [
  {
   "cell_type": "code",
   "execution_count": null,
   "metadata": {},
   "outputs": [],
   "source": [
    "import warnings\n",
    "warnings.filterwarnings(\"ignore\")\n",
    "import matplotlib.pyplot as plt\n",
    "import numpy as np\n",
    "import pandas as pd\n",
    "import tensorflow as tf\n",
    "from keras.utils import to_categorical\n",
    "from keras.models import Sequential\n",
    "from keras.layers import Dense, Dropout\n",
    "pd.options.display.max_colwidth = 4000\n"
   ]
  },
  {
   "cell_type": "code",
   "execution_count": null,
   "metadata": {},
   "outputs": [],
   "source": [
    "filename = 'Q1_data.csv'\n",
    "q1_data = pd.read_csv(filename)\n",
    "print(q1_data.columns.values)"
   ]
  },
  {
   "cell_type": "code",
   "execution_count": null,
   "metadata": {},
   "outputs": [],
   "source": [
    "print('Mean = ',q1_data.mean())\n",
    "print('Standard deviation = ', q1_data.std(axis = 0, skipna = True))\n",
    "print('Variance = ', q1_data.var(axis = 0, skipna = True))\n",
    "\n"
   ]
  },
  {
   "cell_type": "markdown",
   "metadata": {},
   "source": [
    "## Question 2"
   ]
  },
  {
   "cell_type": "code",
   "execution_count": null,
   "metadata": {},
   "outputs": [],
   "source": [
    "filename1 = 'Q2_Test_Data.csv'\n",
    "filename2 = 'Q2_Train_Data.csv'\n",
    "filename3 = 'Q2_Validation_Data.csv'\n",
    "df_test = pd.read_csv(filename1)\n",
    "df_train = pd.read_csv(filename2)\n",
    "df_validation = pd.read_csv(filename3)\n",
    "\n"
   ]
  },
  {
   "cell_type": "code",
   "execution_count": null,
   "metadata": {},
   "outputs": [],
   "source": [
    "input_strings = df_train.pixels[50]\n",
    "arr = np.array(input_strings.split(), dtype=int)\n",
    "print(arr.shape)\n",
    "X = arr.reshape(48, 48)\n",
    "plt.imshow(X) \n",
    "plt.show() "
   ]
  },
  {
   "cell_type": "code",
   "execution_count": null,
   "metadata": {},
   "outputs": [],
   "source": [
    "emotions_dict = {0:'Angry', 1:'Disgust', 2:'Fear', 3:'Happy', 4:'Sad', 5:'Surprise', 6:'Neutral'}\n",
    "l = df_train.emotion.unique().size\n",
    "df_temp = pd.DataFrame()\n",
    "for emotion_number in range(0,l):\n",
    "    print('Emotion = ', emotions_dict[emotion_number].upper())\n",
    "    df_temp = df_train.loc[df_train['emotion']==emotion_number]\n",
    "    df_temp = df_temp.sample(n = 2)\n",
    "    indexes = list(df_temp.index)\n",
    "    print(indexes)\n",
    "    for i in indexes:\n",
    "        input_strings = df_temp.pixels[i]\n",
    "        arr = np.array(input_strings.split(), dtype=int)\n",
    "        X = arr.reshape(48, 48)\n",
    "        plt.imshow(X) \n",
    "        plt.show() \n",
    "\n",
    "    \n"
   ]
  },
  {
   "cell_type": "code",
   "execution_count": null,
   "metadata": {},
   "outputs": [],
   "source": [
    "for emotion_number in emotions_dict:\n",
    "    print('The number of sample for emotion {} is {}'.format(emotions_dict[emotion_number],df_train.loc[df_train['emotion']==emotion_number].shape[0]))\n"
   ]
  },
  {
   "cell_type": "code",
   "execution_count": null,
   "metadata": {},
   "outputs": [],
   "source": [
    "model = Sequential([\n",
    "  Dense(2304, activation='relu', input_shape=(48*48,), name=\"first_hidden_layer\"),\n",
    "  Dense(2304//2, activation='relu', name=\"second_hidden_layer\"), Dropout(0.25),\n",
    "  Dense(10, activation='softmax'),\n",
    "])\n",
    "print(model.summary())\n",
    "\n"
   ]
  },
  {
   "cell_type": "code",
   "execution_count": null,
   "metadata": {},
   "outputs": [],
   "source": [
    "model.compile(optimizer='sgd', loss='categorical_crossentropy',metrics=['accuracy'],)\n"
   ]
  },
  {
   "cell_type": "code",
   "execution_count": null,
   "metadata": {},
   "outputs": [],
   "source": [
    "df_train['Array_pixels'] = df_train['pixels'].str.split(' ')\n",
    "# train_X = np.asarray(train_X)\n",
    "train_X = []\n",
    "train_X1 = df_train['Array_pixels']\n",
    "for l in train_X1:\n",
    "    train_X.append([float(i) for i in l])\n",
    "train_X = np.asarray(train_X).astype('float32')\n",
    "train_Y = df_train['emotion']\n",
    "train_Y = np.asarray(train_Y)"
   ]
  },
  {
   "cell_type": "code",
   "execution_count": null,
   "metadata": {},
   "outputs": [],
   "source": [
    "print(train_X.shape)\n",
    "print(train_Y.shape)\n",
    "\n",
    "print(type(train_X[0,0]))\n",
    "print(type(train_Y[0]))"
   ]
  },
  {
   "cell_type": "code",
   "execution_count": null,
   "metadata": {},
   "outputs": [],
   "source": [
    "model.fit(train_X, to_categorical(train_Y), epochs=10, batch_size=256,)"
   ]
  }
 ],
 "metadata": {
  "kernelspec": {
   "display_name": "Python 3",
   "language": "python",
   "name": "python3"
  },
  "language_info": {
   "codemirror_mode": {
    "name": "ipython",
    "version": 3
   },
   "file_extension": ".py",
   "mimetype": "text/x-python",
   "name": "python",
   "nbconvert_exporter": "python",
   "pygments_lexer": "ipython3",
   "version": "3.8.5"
  }
 },
 "nbformat": 4,
 "nbformat_minor": 4
}
