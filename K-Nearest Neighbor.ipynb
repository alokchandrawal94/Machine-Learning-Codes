{
 "cells": [
  {
   "cell_type": "code",
   "execution_count": null,
   "metadata": {},
   "outputs": [],
   "source": [
    "import pandas as pd\n",
    "import os\n",
    "import re\n",
    "import csv\n",
    "import math\n",
    "from IPython.display import display, HTML\n",
    "import matplotlib.pyplot as plt\n",
    "import seaborn as sns\n",
    "%matplotlib inline"
   ]
  },
  {
   "cell_type": "code",
   "execution_count": null,
   "metadata": {
    "scrolled": true
   },
   "outputs": [],
   "source": [
    "\n",
    "filename = 'iris_train.csv'\n",
    "df = pd.read_csv(filename)\n",
    "# Print head\n",
    "display(df)"
   ]
  },
  {
   "cell_type": "code",
   "execution_count": null,
   "metadata": {},
   "outputs": [],
   "source": [
    "#Number of Sample belonging to each class\n",
    "\n",
    "display(df.loc[df['class'] == 'Iris-setosa'].shape)\n",
    "display(df.loc[df['class'] == 'Iris-virginica'].shape)\n",
    "display(df.loc[df['class'] == 'Iris-virginica'].shape)\n",
    "\n",
    "\n",
    "\n",
    "\n"
   ]
  },
  {
   "cell_type": "code",
   "execution_count": null,
   "metadata": {
    "scrolled": true
   },
   "outputs": [],
   "source": [
    "df.hist(bins=6)"
   ]
  },
  {
   "cell_type": "code",
   "execution_count": null,
   "metadata": {
    "scrolled": false
   },
   "outputs": [],
   "source": [
    "# creating scatter plot\n",
    "features = list(df.columns.values)\n",
    "print (features)\n",
    "i=0\n",
    "color = []\n",
    "for l in df['class']: \n",
    "    if l == 'Iris-setosa':\n",
    "        color.append('blue') \n",
    "    elif l == 'Iris-versicolor':\n",
    "        color.append('red')\n",
    "    else:\n",
    "        color.append('green')\n",
    "        \n",
    "for feature1 in features:\n",
    "    for feature2 in features[i+1:]:\n",
    "        if feature1=='class' or feature2=='class':\n",
    "            continue\n",
    "        else:\n",
    "            x = df[feature1]\n",
    "            y = df[feature2]\n",
    "            p = df['class']\n",
    "            plt.xlabel(feature1)\n",
    "            plt.ylabel(feature2)\n",
    "            plt.scatter( x = df[feature1],y=df[feature2],color=color)\n",
    "            plt.show()\n",
    "    i+=1\n",
    "\n"
   ]
  },
  {
   "cell_type": "code",
   "execution_count": null,
   "metadata": {},
   "outputs": [],
   "source": [
    "##Implement KNN\n",
    "\n",
    "\n",
    "#euclidean distance helper function\n",
    "\n",
    "def calculate_dist(row1,row2):\n",
    "    distance = 0.0\n",
    "    d = list()\n",
    "    for i in range(len(row1)-1):\n",
    "        distance = distance + (row1[i]-row2[i])**2\n",
    "    distance = math.sqrt(distance)\n",
    "    d.append((row1[-1],row2[-1],distance))\n",
    "    return d\n",
    "\n",
    "for i in range(df.shape[0]):\n",
    "    print(calculate_dist(df.iloc[0],df.iloc[i]))\n",
    "\n",
    "\n",
    "\n"
   ]
  },
  {
   "cell_type": "code",
   "execution_count": null,
   "metadata": {},
   "outputs": [],
   "source": []
  },
  {
   "cell_type": "code",
   "execution_count": null,
   "metadata": {},
   "outputs": [],
   "source": []
  }
 ],
 "metadata": {
  "kernelspec": {
   "display_name": "Python 3",
   "language": "python",
   "name": "python3"
  },
  "language_info": {
   "codemirror_mode": {
    "name": "ipython",
    "version": 3
   },
   "file_extension": ".py",
   "mimetype": "text/x-python",
   "name": "python",
   "nbconvert_exporter": "python",
   "pygments_lexer": "ipython3",
   "version": "3.8.5"
  }
 },
 "nbformat": 4,
 "nbformat_minor": 4
}
