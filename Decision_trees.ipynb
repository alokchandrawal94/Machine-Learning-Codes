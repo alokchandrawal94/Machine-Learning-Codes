{
 "cells": [
  {
   "cell_type": "code",
   "execution_count": null,
   "metadata": {},
   "outputs": [],
   "source": [
    "import warnings\n",
    "import matplotlib.pyplot as plt\n",
    "import numpy as np\n",
    "import pandas as pd\n",
    "import seaborn as sns\n",
    "import math"
   ]
  },
  {
   "cell_type": "code",
   "execution_count": null,
   "metadata": {},
   "outputs": [],
   "source": [
    "filename1 = 'hw4_train.csv'\n",
    "df_train = pd.read_csv(filename1)\n",
    "filename2 = 'hw4_test.csv'\n",
    "df_test = pd.read_csv(filename2)"
   ]
  },
  {
   "cell_type": "code",
   "execution_count": null,
   "metadata": {},
   "outputs": [],
   "source": [
    "df_test.head(10)\n"
   ]
  },
  {
   "cell_type": "code",
   "execution_count": null,
   "metadata": {
    "scrolled": false
   },
   "outputs": [],
   "source": [
    "bins = np.linspace(0, 10,100)\n",
    "for col_name in list(df_train.columns.values):\n",
    "    df_temp = df_train.loc[df_train['2.2']==2]\n",
    "    sns.distplot(df_temp[col_name],  kde=False,label='benign')\n",
    "    df_temp = df_train.loc[df_train['2.2']==4]\n",
    "    sns.distplot(df_temp[col_name],  kde=False,label='malignant')\n",
    "    # Plot formatting\n",
    "    plt.legend(prop={'size': 12})\n",
    "    plt.title('Feature name = ' + str(col_name))\n",
    "    plt.ylabel('Count')\n",
    "    plt.show()"
   ]
  },
  {
   "cell_type": "code",
   "execution_count": null,
   "metadata": {},
   "outputs": [],
   "source": [
    "print('The number of benign samples are ',end=\"\")\n",
    "print(len(df_train.loc[df_train['2.2']==2]))\n",
    "print('The number of malignant samples are ',end=\"\")\n",
    "print(len(df_train.loc[df_train['2.2']==4]))"
   ]
  },
  {
   "cell_type": "code",
   "execution_count": null,
   "metadata": {},
   "outputs": [],
   "source": [
    "def calculate_conditional_entrophy(df_train):\n",
    "    \n",
    "    for col_name in list(df_train.columns.values):\n",
    "        unique_values = df_train[col_name].unique()\n",
    "        outcome = 0\n",
    "        for value in unique_values: \n",
    "            benign = len(df_train.loc[(df_train[col_name]==value) & (df_train['2.2']==2)])\n",
    "            malignant = len(df_train.loc[(df_train[col_name]==value) & (df_train['2.2']==4)])\n",
    "            if benign == 0:\n",
    "                log_value_benign =0\n",
    "                log_value_malicious = math.log2(malignant/(benign+malignant))\n",
    "            elif malignant == 0:\n",
    "                log_value_malicious =0\n",
    "                log_value_benign = math.log2(benign/(benign+malignant))\n",
    "            else:\n",
    "                log_value_benign = math.log2(benign/(benign+malignant))\n",
    "                log_value_malicious = math.log2(malignant/(benign+malignant))\n",
    "    \n",
    "            temp = ((benign/(benign+malignant)) * log_value_benign) + ((malignant/(benign+malignant)) * log_value_malicious)\n",
    "            outcome = outcome + ((benign+malignant)/len(df_train))*abs(temp)\n",
    "        print('The conditional entrophy of feature {} is {}'.format(col_name,outcome))\n",
    "calculate_conditional_entrophy(df_train)"
   ]
  },
  {
   "cell_type": "code",
   "execution_count": null,
   "metadata": {},
   "outputs": [],
   "source": [
    "from sklearn.tree import DecisionTreeClassifier\n",
    "from sklearn.model_selection import cross_val_score\n",
    "\n",
    "features = list(df_train.columns.values)\n",
    "X = df_train[features[:-1]]\n",
    "Y = df_train['2.2']\n",
    "X_test = df_test[features[:-1]]\n",
    "Y_test = df_test['2.1']\n",
    "\n",
    "\n",
    "\n",
    "def cross_validation(X,Y,leaves,splits,cv=5,scoring='accuracy'):\n",
    "    for leaf in leaves:\n",
    "        for split in splits:\n",
    "            tree_model = DecisionTreeClassifier(max_depth=4,min_samples_leaf=leaf,min_samples_split=split)\n",
    "            score = cross_val_score(tree_model, X, Y, cv=cv, scoring=scoring)\n",
    "            print('For tree depth 4 ,min_samples_leaf {} and min_samples_split {}, the score is {} '.format(leaf,split,np.sum(score)/5))\n",
    "\n",
    "\n"
   ]
  },
  {
   "cell_type": "code",
   "execution_count": null,
   "metadata": {},
   "outputs": [],
   "source": [
    "\n",
    "leaves = range(3,5)\n",
    "splits = range(2,10)\n",
    "cross_validation(X,Y,leaves,splits)"
   ]
  },
  {
   "cell_type": "code",
   "execution_count": null,
   "metadata": {},
   "outputs": [],
   "source": [
    "from sklearn.model_selection import GridSearchCV\n",
    "\n",
    "\n",
    "\n",
    "parameter_grid = {'criterion': ['gini', 'entropy'],\\\n",
    "                  'splitter': ['best', 'random'],\\\n",
    "                  'min_samples_split':range(1,10),\\\n",
    "                  'min_samples_leaf':range(1,5),\\\n",
    "                  'max_depth': [1, 2, 3, 4, 5, 6, 7, 8]}\n",
    "decision_tree = DecisionTreeClassifier()\n",
    "decision_tree.fit(X,Y)\n",
    "\n",
    "\n",
    "\n",
    "\n"
   ]
  },
  {
   "cell_type": "code",
   "execution_count": null,
   "metadata": {},
   "outputs": [],
   "source": [
    "grid = GridSearchCV(decision_tree,param_grid=parameter_grid,cv=5,n_jobs=-1)\n",
    "grid.fit(X,Y)\n"
   ]
  },
  {
   "cell_type": "code",
   "execution_count": null,
   "metadata": {},
   "outputs": [],
   "source": [
    "grid.best_params_"
   ]
  },
  {
   "cell_type": "code",
   "execution_count": null,
   "metadata": {
    "scrolled": true
   },
   "outputs": [],
   "source": [
    "grid.best_estimator_"
   ]
  },
  {
   "cell_type": "code",
   "execution_count": null,
   "metadata": {},
   "outputs": [],
   "source": [
    "grid.best_score_"
   ]
  },
  {
   "cell_type": "code",
   "execution_count": null,
   "metadata": {},
   "outputs": [],
   "source": [
    "model = DecisionTreeClassifier(max_depth=4,min_samples_leaf=3,min_samples_split=4).fit(X,Y)\n",
    "# score = cross_val_score(tree_model, X, Y, cv=cv, scoring='accuaracy')\n",
    "# model = DecisionTreeClassifier(max_depth=depth).fit(X_train, y_train)"
   ]
  },
  {
   "cell_type": "code",
   "execution_count": null,
   "metadata": {},
   "outputs": [],
   "source": [
    "accuracy_test = model.score(X_test, Y_test)\n",
    "print(accuracy_test)"
   ]
  },
  {
   "cell_type": "code",
   "execution_count": null,
   "metadata": {},
   "outputs": [],
   "source": [
    "from sklearn.ensemble import RandomForestClassifier\n",
    "\n",
    "\n",
    "\n",
    "parameter_grid = {'n_estimators':range(10,110,10),\n",
    "                  'max_depth': [1, 2, 3, 4, 5, 6, 7, 8]}\n",
    "model = RandomForestClassifier()\n",
    "model.fit(X,Y)\n"
   ]
  },
  {
   "cell_type": "code",
   "execution_count": null,
   "metadata": {},
   "outputs": [],
   "source": [
    "grid = GridSearchCV(model,param_grid=parameter_grid,cv=5,n_jobs=-1)\n",
    "grid.fit(X,Y)"
   ]
  },
  {
   "cell_type": "code",
   "execution_count": null,
   "metadata": {},
   "outputs": [],
   "source": [
    "print(grid.best_params_)\n",
    "print(grid.best_score_)\n",
    "print(grid.best_estimator_)"
   ]
  },
  {
   "cell_type": "code",
   "execution_count": null,
   "metadata": {},
   "outputs": [],
   "source": [
    "def cross_validation_rf(X,Y, tree_depths,n_estimators,cv=5,scoring='accuracy'):\n",
    "    for depth in tree_depths:\n",
    "        for n in n_estimators:\n",
    "            tree_model = RandomForestClassifier(max_depth=depth,n_estimators=n)\n",
    "            score = cross_val_score(tree_model, X, Y, cv=cv, scoring=scoring)\n",
    "            print('For tree depth {} and number of trees {}, the score is {:.2f} '.format(depth,n,(np.sum(score)*100)/5))\n",
    "\n",
    "\n",
    "tree_depths = range(4,10)\n",
    "n_estimators = range(10,100,10)\n",
    "cross_validation_rf(X,Y,tree_depths,n_estimators) \n"
   ]
  },
  {
   "cell_type": "code",
   "execution_count": null,
   "metadata": {},
   "outputs": [],
   "source": [
    "model = RandomForestClassifier(max_depth=6,n_estimators=70).fit(X,Y)\n",
    "accuracy_test = model.score(X_test, Y_test)\n",
    "print(accuracy_test)"
   ]
  }
 ],
 "metadata": {
  "kernelspec": {
   "display_name": "Python 3",
   "language": "python",
   "name": "python3"
  },
  "language_info": {
   "codemirror_mode": {
    "name": "ipython",
    "version": 3
   },
   "file_extension": ".py",
   "mimetype": "text/x-python",
   "name": "python",
   "nbconvert_exporter": "python",
   "pygments_lexer": "ipython3",
   "version": "3.8.5"
  }
 },
 "nbformat": 4,
 "nbformat_minor": 4
}
